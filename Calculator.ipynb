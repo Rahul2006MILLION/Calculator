{
 "cells": [
  {
   "cell_type": "code",
   "execution_count": 159,
   "id": "c67b10f9-2347-4bcb-87c7-159feef104d2",
   "metadata": {},
   "outputs": [],
   "source": [
    "def add(a,b):\n",
    "    result=a+b\n",
    "    return result"
   ]
  },
  {
   "cell_type": "code",
   "execution_count": 160,
   "id": "f82176ad-6e18-4437-b4e9-16868b050b9c",
   "metadata": {},
   "outputs": [],
   "source": [
    "def sub(a,b):\n",
    "    result=a-b\n",
    "    return result"
   ]
  },
  {
   "cell_type": "code",
   "execution_count": 161,
   "id": "7ee4b3e4-5fd8-4ae9-b8ee-86eca2fe4b3e",
   "metadata": {},
   "outputs": [],
   "source": [
    "def mul(a,b):\n",
    "    result=a*b\n",
    "    return result"
   ]
  },
  {
   "cell_type": "code",
   "execution_count": 162,
   "id": "47d675ad-9494-4c7b-8dcd-f39479d55c4b",
   "metadata": {},
   "outputs": [],
   "source": [
    "def div(a,b):\n",
    "    if b!=0:\n",
    "        result=a/b\n",
    "        return result\n",
    "    else:\n",
    "        return \"Denominator cannot be zero. Division not performed.\""
   ]
  },
  {
   "cell_type": "code",
   "execution_count": 169,
   "id": "37f35e57-af34-4024-ba3e-7f23be8d33cf",
   "metadata": {},
   "outputs": [],
   "source": [
    "def main():\n",
    "    op=['+','-','*','/']\n",
    "    a=''\n",
    "    oper=''\n",
    "    b=''\n",
    "    cal=False\n",
    "    while a.isdigit()==False or oper not in op or b.isdigit()==False:\n",
    "        a=input('Enter First Number: ')\n",
    "        oper=input(\"Enter the Operator: \")\n",
    "        b=input(\"Enter Second Number: \")\n",
    "        if a.isdigit()==False:\n",
    "            print(\"Entererd 1ST Number is not an INTEGER\")\n",
    "        elif oper not in op:\n",
    "            print(\"Invalid INPUT Choose any one operator['+','-','*','/']\")\n",
    "        elif b.isdigit()==False:\n",
    "            print(\"Entererd 2ND Number is not an INTEGER\")\n",
    "    a=int(a)\n",
    "    b=int(b)\n",
    "    if oper=='+':\n",
    "        return add(a,b)\n",
    "    elif oper=='-':\n",
    "        return sub(a,b)\n",
    "    elif oper=='*':\n",
    "        return mul(a,b)\n",
    "    elif oper=='/':\n",
    "        return div(a,b)"
   ]
  },
  {
   "cell_type": "code",
   "execution_count": 170,
   "id": "504e0380-2b93-46ca-b03d-3e1469118e19",
   "metadata": {},
   "outputs": [
    {
     "name": "stdin",
     "output_type": "stream",
     "text": [
      "Enter First Number:  2.4\n",
      "Enter the Operator:  /\n",
      "Enter Second Number:  7.8\n"
     ]
    },
    {
     "name": "stdout",
     "output_type": "stream",
     "text": [
      "Entererd 1ST Number is not an INTEGER\n"
     ]
    },
    {
     "name": "stdin",
     "output_type": "stream",
     "text": [
      "Enter First Number:  4\n",
      "Enter the Operator:  /\n",
      "Enter Second Number:  9\n"
     ]
    },
    {
     "data": {
      "text/plain": [
       "0.4444444444444444"
      ]
     },
     "execution_count": 170,
     "metadata": {},
     "output_type": "execute_result"
    }
   ],
   "source": [
    "main()"
   ]
  },
  {
   "cell_type": "code",
   "execution_count": null,
   "id": "2f69b657-07df-4bb5-ba80-4f2eaa6314b5",
   "metadata": {},
   "outputs": [],
   "source": []
  }
 ],
 "metadata": {
  "kernelspec": {
   "display_name": "Python [conda env:base] *",
   "language": "python",
   "name": "conda-base-py"
  },
  "language_info": {
   "codemirror_mode": {
    "name": "ipython",
    "version": 3
   },
   "file_extension": ".py",
   "mimetype": "text/x-python",
   "name": "python",
   "nbconvert_exporter": "python",
   "pygments_lexer": "ipython3",
   "version": "3.13.5"
  }
 },
 "nbformat": 4,
 "nbformat_minor": 5
}
